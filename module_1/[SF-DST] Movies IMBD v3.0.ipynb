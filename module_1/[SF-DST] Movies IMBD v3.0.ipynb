{
 "cells": [
  {
   "cell_type": "code",
   "execution_count": 44,
   "metadata": {
    "_cell_guid": "b1076dfc-b9ad-4769-8c92-a6c4dae69d19",
    "_uuid": "8f2839f25d086af736a60e9eeb907d3b93b6e0e5"
   },
   "outputs": [],
   "source": [
    "import numpy as np\n",
    "import pandas as pd\n",
    "import seaborn as sns\n",
    "import matplotlib.pyplot as plt\n",
    "import os\n",
    "from collections import Counter\n",
    "#print(os.listdir(\"../input\"))"
   ]
  },
  {
   "cell_type": "code",
   "execution_count": 45,
   "metadata": {},
   "outputs": [
    {
     "data": {
      "text/html": [
       "<div>\n",
       "<style scoped>\n",
       "    .dataframe tbody tr th:only-of-type {\n",
       "        vertical-align: middle;\n",
       "    }\n",
       "\n",
       "    .dataframe tbody tr th {\n",
       "        vertical-align: top;\n",
       "    }\n",
       "\n",
       "    .dataframe thead th {\n",
       "        text-align: right;\n",
       "    }\n",
       "</style>\n",
       "<table border=\"1\" class=\"dataframe\">\n",
       "  <thead>\n",
       "    <tr style=\"text-align: right;\">\n",
       "      <th></th>\n",
       "      <th>imdb_id</th>\n",
       "      <th>popularity</th>\n",
       "      <th>budget</th>\n",
       "      <th>revenue</th>\n",
       "      <th>original_title</th>\n",
       "      <th>cast</th>\n",
       "      <th>director</th>\n",
       "      <th>tagline</th>\n",
       "      <th>overview</th>\n",
       "      <th>runtime</th>\n",
       "      <th>genres</th>\n",
       "      <th>production_companies</th>\n",
       "      <th>release_date</th>\n",
       "      <th>vote_count</th>\n",
       "      <th>vote_average</th>\n",
       "      <th>release_year</th>\n",
       "    </tr>\n",
       "  </thead>\n",
       "  <tbody>\n",
       "    <tr>\n",
       "      <th>0</th>\n",
       "      <td>tt0369610</td>\n",
       "      <td>32.985763</td>\n",
       "      <td>150000000</td>\n",
       "      <td>1513528810</td>\n",
       "      <td>Jurassic World</td>\n",
       "      <td>Chris Pratt|Bryce Dallas Howard|Irrfan Khan|Vi...</td>\n",
       "      <td>Colin Trevorrow</td>\n",
       "      <td>The park is open.</td>\n",
       "      <td>Twenty-two years after the events of Jurassic ...</td>\n",
       "      <td>124</td>\n",
       "      <td>Action|Adventure|Science Fiction|Thriller</td>\n",
       "      <td>Universal Studios|Amblin Entertainment|Legenda...</td>\n",
       "      <td>6/9/2015</td>\n",
       "      <td>5562</td>\n",
       "      <td>6.5</td>\n",
       "      <td>2015</td>\n",
       "    </tr>\n",
       "    <tr>\n",
       "      <th>1</th>\n",
       "      <td>tt1392190</td>\n",
       "      <td>28.419936</td>\n",
       "      <td>150000000</td>\n",
       "      <td>378436354</td>\n",
       "      <td>Mad Max: Fury Road</td>\n",
       "      <td>Tom Hardy|Charlize Theron|Hugh Keays-Byrne|Nic...</td>\n",
       "      <td>George Miller</td>\n",
       "      <td>What a Lovely Day.</td>\n",
       "      <td>An apocalyptic story set in the furthest reach...</td>\n",
       "      <td>120</td>\n",
       "      <td>Action|Adventure|Science Fiction|Thriller</td>\n",
       "      <td>Village Roadshow Pictures|Kennedy Miller Produ...</td>\n",
       "      <td>5/13/2015</td>\n",
       "      <td>6185</td>\n",
       "      <td>7.1</td>\n",
       "      <td>2015</td>\n",
       "    </tr>\n",
       "    <tr>\n",
       "      <th>2</th>\n",
       "      <td>tt2908446</td>\n",
       "      <td>13.112507</td>\n",
       "      <td>110000000</td>\n",
       "      <td>295238201</td>\n",
       "      <td>Insurgent</td>\n",
       "      <td>Shailene Woodley|Theo James|Kate Winslet|Ansel...</td>\n",
       "      <td>Robert Schwentke</td>\n",
       "      <td>One Choice Can Destroy You</td>\n",
       "      <td>Beatrice Prior must confront her inner demons ...</td>\n",
       "      <td>119</td>\n",
       "      <td>Adventure|Science Fiction|Thriller</td>\n",
       "      <td>Summit Entertainment|Mandeville Films|Red Wago...</td>\n",
       "      <td>3/18/2015</td>\n",
       "      <td>2480</td>\n",
       "      <td>6.3</td>\n",
       "      <td>2015</td>\n",
       "    </tr>\n",
       "    <tr>\n",
       "      <th>3</th>\n",
       "      <td>tt2488496</td>\n",
       "      <td>11.173104</td>\n",
       "      <td>200000000</td>\n",
       "      <td>2068178225</td>\n",
       "      <td>Star Wars: The Force Awakens</td>\n",
       "      <td>Harrison Ford|Mark Hamill|Carrie Fisher|Adam D...</td>\n",
       "      <td>J.J. Abrams</td>\n",
       "      <td>Every generation has a story.</td>\n",
       "      <td>Thirty years after defeating the Galactic Empi...</td>\n",
       "      <td>136</td>\n",
       "      <td>Action|Adventure|Science Fiction|Fantasy</td>\n",
       "      <td>Lucasfilm|Truenorth Productions|Bad Robot</td>\n",
       "      <td>12/15/2015</td>\n",
       "      <td>5292</td>\n",
       "      <td>7.5</td>\n",
       "      <td>2015</td>\n",
       "    </tr>\n",
       "    <tr>\n",
       "      <th>4</th>\n",
       "      <td>tt2820852</td>\n",
       "      <td>9.335014</td>\n",
       "      <td>190000000</td>\n",
       "      <td>1506249360</td>\n",
       "      <td>Furious 7</td>\n",
       "      <td>Vin Diesel|Paul Walker|Jason Statham|Michelle ...</td>\n",
       "      <td>James Wan</td>\n",
       "      <td>Vengeance Hits Home</td>\n",
       "      <td>Deckard Shaw seeks revenge against Dominic Tor...</td>\n",
       "      <td>137</td>\n",
       "      <td>Action|Crime|Thriller</td>\n",
       "      <td>Universal Pictures|Original Film|Media Rights ...</td>\n",
       "      <td>4/1/2015</td>\n",
       "      <td>2947</td>\n",
       "      <td>7.3</td>\n",
       "      <td>2015</td>\n",
       "    </tr>\n",
       "  </tbody>\n",
       "</table>\n",
       "</div>"
      ],
      "text/plain": [
       "     imdb_id  popularity     budget     revenue                original_title  \\\n",
       "0  tt0369610   32.985763  150000000  1513528810                Jurassic World   \n",
       "1  tt1392190   28.419936  150000000   378436354            Mad Max: Fury Road   \n",
       "2  tt2908446   13.112507  110000000   295238201                     Insurgent   \n",
       "3  tt2488496   11.173104  200000000  2068178225  Star Wars: The Force Awakens   \n",
       "4  tt2820852    9.335014  190000000  1506249360                     Furious 7   \n",
       "\n",
       "                                                cast          director  \\\n",
       "0  Chris Pratt|Bryce Dallas Howard|Irrfan Khan|Vi...   Colin Trevorrow   \n",
       "1  Tom Hardy|Charlize Theron|Hugh Keays-Byrne|Nic...     George Miller   \n",
       "2  Shailene Woodley|Theo James|Kate Winslet|Ansel...  Robert Schwentke   \n",
       "3  Harrison Ford|Mark Hamill|Carrie Fisher|Adam D...       J.J. Abrams   \n",
       "4  Vin Diesel|Paul Walker|Jason Statham|Michelle ...         James Wan   \n",
       "\n",
       "                         tagline  \\\n",
       "0              The park is open.   \n",
       "1             What a Lovely Day.   \n",
       "2     One Choice Can Destroy You   \n",
       "3  Every generation has a story.   \n",
       "4            Vengeance Hits Home   \n",
       "\n",
       "                                            overview  runtime  \\\n",
       "0  Twenty-two years after the events of Jurassic ...      124   \n",
       "1  An apocalyptic story set in the furthest reach...      120   \n",
       "2  Beatrice Prior must confront her inner demons ...      119   \n",
       "3  Thirty years after defeating the Galactic Empi...      136   \n",
       "4  Deckard Shaw seeks revenge against Dominic Tor...      137   \n",
       "\n",
       "                                      genres  \\\n",
       "0  Action|Adventure|Science Fiction|Thriller   \n",
       "1  Action|Adventure|Science Fiction|Thriller   \n",
       "2         Adventure|Science Fiction|Thriller   \n",
       "3   Action|Adventure|Science Fiction|Fantasy   \n",
       "4                      Action|Crime|Thriller   \n",
       "\n",
       "                                production_companies release_date  vote_count  \\\n",
       "0  Universal Studios|Amblin Entertainment|Legenda...     6/9/2015        5562   \n",
       "1  Village Roadshow Pictures|Kennedy Miller Produ...    5/13/2015        6185   \n",
       "2  Summit Entertainment|Mandeville Films|Red Wago...    3/18/2015        2480   \n",
       "3          Lucasfilm|Truenorth Productions|Bad Robot   12/15/2015        5292   \n",
       "4  Universal Pictures|Original Film|Media Rights ...     4/1/2015        2947   \n",
       "\n",
       "   vote_average  release_year  \n",
       "0           6.5          2015  \n",
       "1           7.1          2015  \n",
       "2           6.3          2015  \n",
       "3           7.5          2015  \n",
       "4           7.3          2015  "
      ]
     },
     "execution_count": 45,
     "metadata": {},
     "output_type": "execute_result"
    }
   ],
   "source": [
    "#data = pd.read_csv('../input/imbd-sf/data.csv')\n",
    "data = pd.read_csv('m_data.csv')\n",
    "data.head()"
   ]
  },
  {
   "cell_type": "code",
   "execution_count": 46,
   "metadata": {},
   "outputs": [
    {
     "data": {
      "text/plain": [
       "1890"
      ]
     },
     "execution_count": 46,
     "metadata": {},
     "output_type": "execute_result"
    }
   ],
   "source": [
    "len(data)"
   ]
  },
  {
   "cell_type": "markdown",
   "metadata": {},
   "source": [
    "# Предобработка датасета"
   ]
  },
  {
   "cell_type": "code",
   "execution_count": 47,
   "metadata": {},
   "outputs": [],
   "source": [
    "answer_ls = [] # создадим список с ответами. сюда будем добавлять ответы по мере прохождения теста\n",
    "# сюда можем вписать создание новых колонок в датасете\n",
    "# добавим колонку с прибылью\n",
    "data['profit'] = data['revenue'] - data['budget']  \n",
    "\n",
    "# процедура возвращает датафрейм с разверткой по жанрам по одному фильму\n",
    "def df_genre(srt_genre,film_id):\n",
    "    # создаем датафрейм из строки с жанрами\n",
    "    dfg = pd.DataFrame(str(srt_genre).split('|'))\n",
    "    # добавляем колонку с id фильма и заполняем её переданным\n",
    "    dfg['imdb_id'] = film_id\n",
    "    dfg.columns = ['a_genre','imdb_id']\n",
    "    return dfg\n",
    "\n",
    "# процедура возвращает датафрейм с разверткой по режиссерам по одному фильму\n",
    "def df_director(srt_director,film_id):\n",
    "    dfd = pd.DataFrame(str(srt_director).split('|'))\n",
    "    dfd['imdb_id'] = film_id\n",
    "    dfd.columns = ['a_director','imdb_id']\n",
    "    return dfd\n",
    "\n",
    "# процедура возвращает датафрейм с разверткой по актерам по одному фильму\n",
    "def df_cast(srt_cast,film_id):\n",
    "    dfc = pd.DataFrame(str(srt_cast).split('|'))\n",
    "    dfc['imdb_id'] = film_id\n",
    "    dfc.columns = ['a_cast','imdb_id']\n",
    "    return dfc\n",
    "\n",
    "# процедура возвращает датафрейм с разверткой по актерам по одному фильму\n",
    "def df_companies(srt_companies,film_id):\n",
    "    dfk = pd.DataFrame(str(srt_companies).split('|'))\n",
    "    dfk['imdb_id'] = film_id\n",
    "    dfk.columns = ['a_companies','imdb_id']\n",
    "    return dfk\n",
    "\n",
    "\n",
    "\n",
    "# инициализируем данные по датафреймам\n",
    "data_genre = pd.DataFrame([],columns = ['a_genre','imdb_id'])\n",
    "data_director = pd.DataFrame([],columns = ['a_director','imdb_id'])\n",
    "data_cast = pd.DataFrame([],columns = ['a_cast','imdb_id'])\n",
    "data_companies = pd.DataFrame([],columns = ['a_companies','imdb_id'])\n",
    "\n",
    "for index, row in data.iterrows():\n",
    "    # формируем датафрейм с жанрами\n",
    "    data_genre = pd.concat([data_genre, df_genre(row.genres,row.imdb_id)], ignore_index=True)\n",
    "    # формируем датафрейм с режиссерами\n",
    "    data_director = pd.concat([data_director, df_director(row.director,row.imdb_id)], ignore_index=True)\n",
    "    # формируем датафрейм с актерами\n",
    "    data_cast = pd.concat([data_cast, df_cast(row.cast,row.imdb_id)], ignore_index=True)\n",
    "    # формируем датафрейм с компаниями\n",
    "    data_companies = pd.concat([data_companies, df_companies(row.production_companies,row.imdb_id)], ignore_index=True)        "
   ]
  },
  {
   "cell_type": "markdown",
   "metadata": {},
   "source": [
    "# 1. У какого фильма из списка самый большой бюджет?\n",
    "Варианты ответов:\n",
    "1. The Dark Knight Rises (tt1345836)\n",
    "2. Spider-Man 3 (tt0413300)\n",
    "3. Avengers: Age of Ultron (tt2395427)\n",
    "4. The Warrior's Way\t(tt1032751)\n",
    "5. Pirates of the Caribbean: On Stranger Tides (tt1298650)"
   ]
  },
  {
   "cell_type": "code",
   "execution_count": 48,
   "metadata": {},
   "outputs": [
    {
     "name": "stdout",
     "output_type": "stream",
     "text": [
      "491    The Warrior's Way\n",
      "Name: original_title, dtype: object\n"
     ]
    }
   ],
   "source": [
    "# тут вводим ваш ответ и добавлем в его список ответов (сейчас для примера стоит \"1\")\n",
    "print(data[data['budget'] == data['budget'].max()].original_title)\n",
    "answer_ls.append(4)"
   ]
  },
  {
   "cell_type": "markdown",
   "metadata": {},
   "source": [
    "# 2. Какой из фильмов самый длительный (в минутах)\n",
    "1. The Lord of the Rings: The Return of the King\t(tt0167260)\n",
    "2. Gods and Generals\t(tt0279111)\n",
    "3. King Kong\t(tt0360717)\n",
    "4. Pearl Harbor\t(tt0213149)\n",
    "5. Alexander\t(tt0346491)"
   ]
  },
  {
   "cell_type": "code",
   "execution_count": 49,
   "metadata": {},
   "outputs": [
    {
     "name": "stdout",
     "output_type": "stream",
     "text": [
      "1158    Gods and Generals\n",
      "Name: original_title, dtype: object\n"
     ]
    }
   ],
   "source": [
    "print(data[data['runtime'] == data['runtime'].max()].original_title)\n",
    "answer_ls.append(2)"
   ]
  },
  {
   "cell_type": "markdown",
   "metadata": {},
   "source": [
    "# 3. Какой из фильмов самый короткий (в минутах)\n",
    "Варианты ответов:\n",
    "\n",
    "1. Home on the Range\ttt0299172\n",
    "2. The Jungle Book 2\ttt0283426\n",
    "3. Winnie the Pooh\ttt1449283\n",
    "4. Corpse Bride\ttt0121164\n",
    "5. Hoodwinked!\ttt0443536"
   ]
  },
  {
   "cell_type": "code",
   "execution_count": 50,
   "metadata": {},
   "outputs": [
    {
     "name": "stdout",
     "output_type": "stream",
     "text": [
      "769    Winnie the Pooh\n",
      "Name: original_title, dtype: object\n"
     ]
    }
   ],
   "source": [
    "print(data[data['runtime'] == data['runtime'].min()].original_title)\n",
    "answer_ls.append(3)"
   ]
  },
  {
   "cell_type": "markdown",
   "metadata": {},
   "source": [
    "# 4. Средняя длительность фильма?\n",
    "\n",
    "Варианты ответов:\n",
    "1. 115\n",
    "2. 110\n",
    "3. 105\n",
    "4. 120\n",
    "5. 100\n"
   ]
  },
  {
   "cell_type": "code",
   "execution_count": 51,
   "metadata": {},
   "outputs": [
    {
     "name": "stdout",
     "output_type": "stream",
     "text": [
      "110.0\n"
     ]
    }
   ],
   "source": [
    "print(round(data['runtime'].mean(),0))\n",
    "answer_ls.append(2)"
   ]
  },
  {
   "cell_type": "markdown",
   "metadata": {},
   "source": [
    "# 5. Средняя длительность фильма по медиане?\n",
    "Варианты ответов:\n",
    "1. 106\n",
    "2. 112\n",
    "3. 101\n",
    "4. 120\n",
    "5. 115\n",
    "\n",
    "\n"
   ]
  },
  {
   "cell_type": "code",
   "execution_count": 52,
   "metadata": {},
   "outputs": [
    {
     "name": "stdout",
     "output_type": "stream",
     "text": [
      "106.0\n"
     ]
    }
   ],
   "source": [
    "print(round(data['runtime'].median(),0))\n",
    "answer_ls.append(1)"
   ]
  },
  {
   "cell_type": "markdown",
   "metadata": {},
   "source": [
    "# 6. Какой самый прибыльный фильм?\n",
    "Варианты ответов:\n",
    "1. The Avengers\ttt0848228\n",
    "2. Minions\ttt2293640\n",
    "3. Star Wars: The Force Awakens\ttt2488496\n",
    "4. Furious 7\ttt2820852\n",
    "5. Avatar\ttt0499549"
   ]
  },
  {
   "cell_type": "code",
   "execution_count": 53,
   "metadata": {},
   "outputs": [
    {
     "name": "stdout",
     "output_type": "stream",
     "text": [
      "239    Avatar\n",
      "Name: original_title, dtype: object\n"
     ]
    }
   ],
   "source": [
    "print(data[data['profit'] == data['profit'].max()].original_title)\n",
    "answer_ls.append(5)"
   ]
  },
  {
   "cell_type": "markdown",
   "metadata": {},
   "source": [
    "# 7. Какой фильм самый убыточный?\n",
    "Варианты ответов:\n",
    "1. Supernova tt0134983\n",
    "2. The Warrior's Way tt1032751\n",
    "3. Flushed Away\ttt0424095\n",
    "4. The Adventures of Pluto Nash\ttt0180052\n",
    "5. The Lone Ranger\ttt1210819"
   ]
  },
  {
   "cell_type": "code",
   "execution_count": 54,
   "metadata": {},
   "outputs": [
    {
     "name": "stdout",
     "output_type": "stream",
     "text": [
      "491    The Warrior's Way\n",
      "Name: original_title, dtype: object\n"
     ]
    }
   ],
   "source": [
    "print(data[data['profit'] == data['profit'].min()].original_title)\n",
    "answer_ls.append(2)"
   ]
  },
  {
   "cell_type": "markdown",
   "metadata": {},
   "source": [
    "# 8. Сколько всего фильмов в прибыли?\n",
    "Варианты ответов:\n",
    "1. 1478\n",
    "2. 1520\n",
    "3. 1241\n",
    "4. 1135\n",
    "5. 1398\n"
   ]
  },
  {
   "cell_type": "code",
   "execution_count": 55,
   "metadata": {},
   "outputs": [
    {
     "name": "stdout",
     "output_type": "stream",
     "text": [
      "1478\n"
     ]
    }
   ],
   "source": [
    "print(data[data['profit'] > 0].imdb_id.count())\n",
    "answer_ls.append(1)"
   ]
  },
  {
   "cell_type": "markdown",
   "metadata": {},
   "source": [
    "# 9. Самый прибыльный фильм в 2008 году?\n",
    "Варианты ответов:\n",
    "1. Madagascar: Escape 2 Africa\ttt0479952\n",
    "2. Iron Man\ttt0371746\n",
    "3. Kung Fu Panda\ttt0441773\n",
    "4. The Dark Knight\ttt0468569\n",
    "5. Mamma Mia!\ttt0795421"
   ]
  },
  {
   "cell_type": "code",
   "execution_count": 56,
   "metadata": {},
   "outputs": [
    {
     "name": "stdout",
     "output_type": "stream",
     "text": [
      "600    The Dark Knight\n",
      "Name: original_title, dtype: object\n"
     ]
    }
   ],
   "source": [
    "# находим все фильмы 2008 года\n",
    "movies2008 = data[(data['release_year'] == 2008)]\n",
    "# самый прибыльный\n",
    "print(movies2008[movies2008['profit'] == movies2008['profit'].max()].original_title)\n",
    "answer_ls.append(4)"
   ]
  },
  {
   "cell_type": "markdown",
   "metadata": {},
   "source": [
    "# 10. Самый убыточный фильм за период с 2012 по 2014 (включительно)?\n",
    "Варианты ответов:\n",
    "1. Winter's Tale\ttt1837709\n",
    "2. Stolen\ttt1656186\n",
    "3. Broken City\ttt1235522\n",
    "4. Upside Down\ttt1374992\n",
    "5. The Lone Ranger\ttt1210819\n"
   ]
  },
  {
   "cell_type": "code",
   "execution_count": 57,
   "metadata": {},
   "outputs": [
    {
     "name": "stdout",
     "output_type": "stream",
     "text": [
      "1246    The Lone Ranger\n",
      "Name: original_title, dtype: object\n"
     ]
    }
   ],
   "source": [
    "# фильмы за период\n",
    "movies1214 = data[(data['release_year'] >= 2012)&(data['release_year'] <= 2014)]\n",
    "# самый убыточный\n",
    "print(movies1214[movies1214['profit'] == movies1214['profit'].min()].original_title)\n",
    "\n",
    "answer_ls.append(5)"
   ]
  },
  {
   "cell_type": "markdown",
   "metadata": {},
   "source": [
    "# 11. Какого жанра фильмов больше всего?\n",
    "Варианты ответов:\n",
    "1. Action\n",
    "2. Adventure\n",
    "3. Drama\n",
    "4. Comedy\n",
    "5. Thriller"
   ]
  },
  {
   "cell_type": "code",
   "execution_count": 58,
   "metadata": {},
   "outputs": [
    {
     "name": "stdout",
     "output_type": "stream",
     "text": [
      "Drama    782\n",
      "Name: a_genre, dtype: int64\n"
     ]
    }
   ],
   "source": [
    "# подсчитываем количество жанров по датафрейму жанров\n",
    "print(data_genre['a_genre'].value_counts().head(1))\n",
    "answer_ls.append(3)"
   ]
  },
  {
   "cell_type": "markdown",
   "metadata": {},
   "source": [
    "# 12. Какого жанра среди прибыльных фильмов больше всего?\n",
    "Варианты ответов:\n",
    "1. Drama\n",
    "2. Comedy\n",
    "3. Action\n",
    "4. Thriller\n",
    "5. Adventure"
   ]
  },
  {
   "cell_type": "code",
   "execution_count": 59,
   "metadata": {},
   "outputs": [
    {
     "name": "stdout",
     "output_type": "stream",
     "text": [
      "Drama    560\n",
      "Name: a_genre, dtype: int64\n"
     ]
    }
   ],
   "source": [
    "# Прибыльные фильмы\n",
    "profit_films = data[data['profit'] > 0]\n",
    "# Объединение с таблицей жанров\n",
    "joined = profit_films.merge(data_genre, on='imdb_id', how='left')\n",
    "# Максимальная прибыль\n",
    "print(joined['a_genre'].value_counts().head(1))\n",
    "\n",
    "answer_ls.append(3)"
   ]
  },
  {
   "cell_type": "markdown",
   "metadata": {},
   "source": [
    "# 13. Кто из режиссеров снял больше всего фильмов?\n",
    "Варианты ответов:\n",
    "1. Steven Spielberg\n",
    "2. Ridley Scott \n",
    "3. Steven Soderbergh\n",
    "4. Christopher Nolan\n",
    "5. Clint Eastwood"
   ]
  },
  {
   "cell_type": "code",
   "execution_count": 60,
   "metadata": {},
   "outputs": [
    {
     "name": "stdout",
     "output_type": "stream",
     "text": [
      "Steven Soderbergh    13\n",
      "Name: a_director, dtype: int64\n"
     ]
    }
   ],
   "source": [
    "#  Подсчитываем количество по таблице режиссеров\n",
    "print(data_director['a_director'].value_counts().head(1))\n",
    "answer_ls.append(3)"
   ]
  },
  {
   "cell_type": "markdown",
   "metadata": {},
   "source": [
    "# 14. Кто из режиссеров снял больше всего Прибыльных фильмов?\n",
    "Варианты ответов:\n",
    "1. Steven Soderbergh\n",
    "2. Clint Eastwood\n",
    "3. Steven Spielberg\n",
    "4. Ridley Scott\n",
    "5. Christopher Nolan"
   ]
  },
  {
   "cell_type": "code",
   "execution_count": 61,
   "metadata": {},
   "outputs": [
    {
     "name": "stdout",
     "output_type": "stream",
     "text": [
      "Ridley Scott    12\n",
      "Name: a_director, dtype: int64\n"
     ]
    }
   ],
   "source": [
    "# Прибыльные фильмы\n",
    "profit_films = data[data['profit'] > 0]\n",
    "# объединяем с таблицей режиссеров\n",
    "joined = profit_films.merge(data_director, on='imdb_id', how='left')\n",
    "# Выбираем первый\n",
    "print(joined['a_director'].value_counts().head(1))\n",
    "\n",
    "answer_ls.append(4)"
   ]
  },
  {
   "cell_type": "markdown",
   "metadata": {},
   "source": [
    "# 15. Кто из режиссеров принес больше всего прибыли?\n",
    "Варианты ответов:\n",
    "1. Steven Spielberg\n",
    "2. Christopher Nolan\n",
    "3. David Yates\n",
    "4. James Cameron\n",
    "5. Peter Jackson\n"
   ]
  },
  {
   "cell_type": "code",
   "execution_count": 62,
   "metadata": {},
   "outputs": [
    {
     "name": "stdout",
     "output_type": "stream",
     "text": [
      "                   profit\n",
      "a_director               \n",
      "Peter Jackson  5202593685\n"
     ]
    }
   ],
   "source": [
    "# объединяем основной датафрейм с таблицей режиссеров\n",
    "joined = data.merge(data_director, on='imdb_id', how='left')\n",
    "# Группируем по режиссерам\n",
    "group_df = joined.groupby(['a_director'])[['profit']].sum()\n",
    "# Фильтруем по максимальному\n",
    "print(group_df[group_df['profit'] == group_df['profit'].max()])\n",
    "answer_ls.append(5)"
   ]
  },
  {
   "cell_type": "markdown",
   "metadata": {},
   "source": [
    "# 16. Какой актер принес больше всего прибыли?\n",
    "Варианты ответов:\n",
    "1. Emma Watson\n",
    "2. Johnny Depp\n",
    "3. Michelle Rodriguez\n",
    "4. Orlando Bloom\n",
    "5. Rupert Grint"
   ]
  },
  {
   "cell_type": "code",
   "execution_count": 63,
   "metadata": {},
   "outputs": [
    {
     "name": "stdout",
     "output_type": "stream",
     "text": [
      "                 profit\n",
      "a_cast                 \n",
      "Emma Watson  6666245597\n"
     ]
    }
   ],
   "source": [
    "# объединяем основной датафрейм с таблицей актеров\n",
    "joined = data.merge(data_cast, on='imdb_id', how='inner')\n",
    "# Группируем по актерам\n",
    "group_df = joined.groupby(['a_cast'])[['profit']].sum()\n",
    "# Фильтруем по максимальному\n",
    "print(group_df[group_df['profit'] == group_df['profit'].max()])\n",
    "\n",
    "answer_ls.append(1)"
   ]
  },
  {
   "cell_type": "markdown",
   "metadata": {},
   "source": [
    "# 17. Какой актер принес меньше всего прибыли в 2012 году?\n",
    "Варианты ответов:\n",
    "1. Nicolas Cage\n",
    "2. Danny Huston\n",
    "3. Kirsten Dunst\n",
    "4. Jim Sturgess\n",
    "5. Sami Gayle"
   ]
  },
  {
   "cell_type": "code",
   "execution_count": 64,
   "metadata": {},
   "outputs": [
    {
     "name": "stdout",
     "output_type": "stream",
     "text": [
      "                 profit\n",
      "a_cast                 \n",
      "Kirsten Dunst -68109207\n"
     ]
    }
   ],
   "source": [
    "# Фильмы 2012 года\n",
    "films_2012 = data[data['release_year'] == 2012]\n",
    "# объединяем с таблицей актеров\n",
    "joined = films_2012.merge(data_cast, on='imdb_id', how='left')\n",
    "# Группируем по актерам\n",
    "group_df = joined.groupby(['a_cast'])[['profit']].sum()\n",
    "# Фильтруем по максимальному\n",
    "print(group_df[group_df['profit'] == group_df['profit'].min()])\n",
    "\n",
    "answer_ls.append(3)"
   ]
  },
  {
   "cell_type": "markdown",
   "metadata": {},
   "source": [
    "# 18. Какой актер снялся в большем количестве высокобюджетных фильмов? (в фильмах где бюджет выше среднего по данной выборке)\n",
    "Варианты ответов:\n",
    "1. Tom Cruise\n",
    "2. Mark Wahlberg \n",
    "3. Matt Damon\n",
    "4. Angelina Jolie\n",
    "5. Adam Sandler"
   ]
  },
  {
   "cell_type": "code",
   "execution_count": 65,
   "metadata": {},
   "outputs": [
    {
     "name": "stdout",
     "output_type": "stream",
     "text": [
      "Matt Damon    18\n",
      "Name: a_cast, dtype: int64\n"
     ]
    }
   ],
   "source": [
    "# Находим высокобюджетные фильмы\n",
    "films_hi = data[data['budget'] >  data['budget'].mean()]\n",
    "# объединяем с таблицей актеров\n",
    "joined = films_hi.merge(data_cast, on='imdb_id', how='left')\n",
    "# Выводим первый\n",
    "print(joined['a_cast'].value_counts().head(1))\n",
    "\n",
    "answer_ls.append(3)"
   ]
  },
  {
   "cell_type": "markdown",
   "metadata": {},
   "source": [
    "# 19. В фильмах какого жанра больше всего снимался Nicolas Cage?  \n",
    "Варианты ответа:\n",
    "1. Drama\n",
    "2. Action\n",
    "3. Thriller\n",
    "4. Adventure\n",
    "5. Crime"
   ]
  },
  {
   "cell_type": "code",
   "execution_count": 66,
   "metadata": {},
   "outputs": [
    {
     "name": "stdout",
     "output_type": "stream",
     "text": [
      "Action    17\n",
      "Name: a_genre, dtype: int64\n"
     ]
    }
   ],
   "source": [
    "# Находим фильмы c Кейджем по таблице актеров\n",
    "films_cage = data_cast[data_cast['a_cast'] == 'Nicolas Cage']\n",
    "# объединяемся с основной таблицей\n",
    "joined = films_cage.merge(data_genre, on='imdb_id', how='left')\n",
    "# Выводим первый\n",
    "print(joined['a_genre'].value_counts().head(1))\n",
    "\n",
    "answer_ls.append(2)"
   ]
  },
  {
   "cell_type": "markdown",
   "metadata": {},
   "source": [
    "# 20. Какая студия сняла больше всего фильмов?\n",
    "Варианты ответа:\n",
    "1. Universal Pictures (Universal)\n",
    "2. Paramount Pictures\n",
    "3. Columbia Pictures\n",
    "4. Warner Bros\n",
    "5. Twentieth Century Fox Film Corporation"
   ]
  },
  {
   "cell_type": "code",
   "execution_count": 67,
   "metadata": {},
   "outputs": [
    {
     "name": "stdout",
     "output_type": "stream",
     "text": [
      "Universal Pictures    173\n",
      "Name: a_companies, dtype: int64\n"
     ]
    }
   ],
   "source": [
    "# Объединяем таблицу студий с основной\n",
    "joined = data_companies.merge(data, on='imdb_id', how='left')\n",
    "# Выводим первый\n",
    "print(joined['a_companies'].value_counts().head(1))\n",
    "\n",
    "answer_ls.append(1)"
   ]
  },
  {
   "cell_type": "markdown",
   "metadata": {},
   "source": [
    "# 21. Какая студия сняла больше всего фильмов в 2015 году?\n",
    "Варианты ответа:\n",
    "1. Universal Pictures\n",
    "2. Paramount Pictures\n",
    "3. Columbia Pictures\n",
    "4. Warner Bros\n",
    "5. Twentieth Century Fox Film Corporation"
   ]
  },
  {
   "cell_type": "code",
   "execution_count": 68,
   "metadata": {},
   "outputs": [
    {
     "name": "stdout",
     "output_type": "stream",
     "text": [
      "Warner Bros.    12\n",
      "Name: a_companies, dtype: int64\n"
     ]
    }
   ],
   "source": [
    "# Фильмы 2015 года\n",
    "films_2015 = data[data['release_year'] == 2015]\n",
    "# Объединяем таблицу фильмов с таблицей компаний\n",
    "joined = films_2015.merge(data_companies, on='imdb_id', how='left')\n",
    "# Выводим первый\n",
    "print(joined['a_companies'].value_counts().head(1))\n",
    "\n",
    "answer_ls.append(4)"
   ]
  },
  {
   "cell_type": "markdown",
   "metadata": {},
   "source": [
    "# 22. Какая студия заработала больше всего денег в жанре комедий за все время?\n",
    "Варианты ответа:\n",
    "1. Warner Bros\n",
    "2. Universal Pictures (Universal)\n",
    "3. Columbia Pictures\n",
    "4. Paramount Pictures\n",
    "5. Walt Disney"
   ]
  },
  {
   "cell_type": "code",
   "execution_count": 69,
   "metadata": {},
   "outputs": [
    {
     "name": "stdout",
     "output_type": "stream",
     "text": [
      "Universal Pictures    75\n",
      "Name: a_companies, dtype: int64\n"
     ]
    }
   ],
   "source": [
    "# Отфильтруем комедии в таблице жанров\n",
    "films_comedy = data_genre[data_genre['a_genre'] == 'Comedy']\n",
    "# Объединим комедии с основным датафреймом\n",
    "joined_comedy = films_comedy.merge(data, on='imdb_id', how='left')\n",
    "# Объединим полученное с таблицей компаний\n",
    "joined_companies = joined_comedy.merge(data_companies, on='imdb_id', how='left')\n",
    "# Выводим первый\n",
    "print(joined_companies['a_companies'].value_counts().head(1))\n",
    "\n",
    "answer_ls.append(2)"
   ]
  },
  {
   "cell_type": "markdown",
   "metadata": {},
   "source": [
    "# 23. Какая студия заработала больше всего денег в 2012 году?\n",
    "Варианты ответа:\n",
    "1. Universal Pictures (Universal)\n",
    "2. Warner Bros\n",
    "3. Columbia Pictures\n",
    "4. Paramount Pictures\n",
    "5. Lucasfilm"
   ]
  },
  {
   "cell_type": "code",
   "execution_count": 70,
   "metadata": {},
   "outputs": [
    {
     "name": "stdout",
     "output_type": "stream",
     "text": [
      "                       profit\n",
      "a_companies                  \n",
      "Columbia Pictures  2501406608\n"
     ]
    }
   ],
   "source": [
    "# Найдем фильмы 2012 года\n",
    "films_2012 = data[data['release_year'] == 2012]\n",
    "# Найдем обохединим полученное с таблицей студий\n",
    "joined_companies = films_2012.merge(data_companies, on='imdb_id', how='left')\n",
    "# Сгруппируем по компании\n",
    "group_df = joined_companies.groupby(['a_companies'])[['profit']].sum()\n",
    "# Фильтруем по максимальному\n",
    "print(group_df[group_df['profit'] == group_df['profit'].max()])\n",
    "\n",
    "answer_ls.append(3)"
   ]
  },
  {
   "cell_type": "markdown",
   "metadata": {},
   "source": [
    "# 24. Самый убыточный фильм от Paramount Pictures\n",
    "Варианты ответа:\n",
    "\n",
    "1. K-19: The Widowmaker tt0267626\n",
    "2. Next tt0435705\n",
    "3. Twisted tt0315297\n",
    "4. The Love Guru tt0811138\n",
    "5. The Fighter tt0964517"
   ]
  },
  {
   "cell_type": "code",
   "execution_count": 71,
   "metadata": {},
   "outputs": [
    {
     "name": "stdout",
     "output_type": "stream",
     "text": [
      "                        profit\n",
      "original_title                \n",
      "K-19: The Widowmaker -64831034\n"
     ]
    }
   ],
   "source": [
    "# НАйдем фильмы от Парамаунт\n",
    "films_paramount = data_companies[data_companies['a_companies'] == 'Paramount Pictures']\n",
    "# Объединим с основным датафреймом\n",
    "joined_companies = films_paramount.merge(data, on='imdb_id', how='inner')\n",
    "# Сгруппируем по названию фильма\n",
    "group_df = joined_companies.groupby(['original_title'])[['profit']].sum()\n",
    "# Фильтруем по минимальному\n",
    "print(group_df[group_df['profit'] == group_df['profit'].min()])\n",
    "\n",
    "answer_ls.append(1)"
   ]
  },
  {
   "cell_type": "markdown",
   "metadata": {},
   "source": [
    "# 25. Какой Самый прибыльный год (заработали больше всего)?\n",
    "Варианты ответа:\n",
    "1. 2014\n",
    "2. 2008\n",
    "3. 2012\n",
    "4. 2002\n",
    "5. 2015"
   ]
  },
  {
   "cell_type": "code",
   "execution_count": 72,
   "metadata": {},
   "outputs": [
    {
     "name": "stdout",
     "output_type": "stream",
     "text": [
      "                   profit\n",
      "release_year             \n",
      "2015          18668572378\n"
     ]
    }
   ],
   "source": [
    "# Сгруппируем основной датафрейм по годам\n",
    "group_df = data.groupby(['release_year'])[['profit']].sum()\n",
    "# Фильтруем по максимальному\n",
    "print(group_df[group_df['profit'] == group_df['profit'].max()])\n",
    "\n",
    "answer_ls.append(5)"
   ]
  },
  {
   "cell_type": "markdown",
   "metadata": {},
   "source": [
    "# 26. Какой Самый прибыльный год для студии Warner Bros?\n",
    "Варианты ответа:\n",
    "1. 2014\n",
    "2. 2008\n",
    "3. 2012\n",
    "4. 2010\n",
    "5. 2015"
   ]
  },
  {
   "cell_type": "code",
   "execution_count": 87,
   "metadata": {},
   "outputs": [
    {
     "name": "stdout",
     "output_type": "stream",
     "text": [
      "                  profit\n",
      "release_year            \n",
      "2014          2292949646\n"
     ]
    }
   ],
   "source": [
    "#films_Warner = data_companies[data_companies['a_companies'] =='Warner Bros.']\n",
    "# Косяк №1 - в выборке должна присутствовать не 'Warner Bros.', а все компании содержащие 'Warner Bros.'\n",
    "# Найдем все филмы студии\n",
    "films_Warner = data_companies[data_companies['a_companies'].str.contains('Warner Bros.')]\n",
    "# Объединимся с основной таблицей\n",
    "joined_companies = films_Warner.merge(data, on='imdb_id', how='left')\n",
    "# Сгруппируем полученное по годам\n",
    "group_df = joined_companies.groupby(['release_year'])[['profit']].sum()\n",
    "# Фильтруем по максимальному\n",
    "print(group_df[group_df['profit'] == group_df['profit'].max()])\n",
    "\n",
    "answer_ls.append(1)"
   ]
  },
  {
   "cell_type": "markdown",
   "metadata": {},
   "source": [
    "# 27. В каком месяце за все годы суммарно вышло больше всего фильмов?\n",
    "Варианты ответа:\n",
    "1. Январь\n",
    "2. Июнь\n",
    "3. Декабрь\n",
    "4. Сентябрь\n",
    "5. Май"
   ]
  },
  {
   "cell_type": "code",
   "execution_count": 74,
   "metadata": {},
   "outputs": [
    {
     "name": "stdout",
     "output_type": "stream",
     "text": [
      "9    227\n",
      "Name: mons, dtype: int64\n"
     ]
    }
   ],
   "source": [
    "# процедура возвращает номер месяца из переданной строки\n",
    "def mons_numb(datastr):\n",
    "    point = datastr.find('/')\n",
    "    return int(datastr[:point])\n",
    "\n",
    "# добавляем колонку с номером месяца\n",
    "data['mons'] = data['release_date'].apply(mons_numb)   \n",
    "# выведем первую\n",
    "print(data['mons'].value_counts().head(1))\n",
    "\n",
    "answer_ls.append(4)"
   ]
  },
  {
   "cell_type": "markdown",
   "metadata": {},
   "source": [
    "# 28. Сколько суммарно вышло фильмов летом? (за июнь, июль, август)\n",
    "Варианты ответа:\n",
    "1. 345\n",
    "2. 450\n",
    "3. 478\n",
    "4. 523\n",
    "5. 381"
   ]
  },
  {
   "cell_type": "code",
   "execution_count": 75,
   "metadata": {},
   "outputs": [
    {
     "name": "stdout",
     "output_type": "stream",
     "text": [
      "450\n"
     ]
    }
   ],
   "source": [
    "# процедура возвращает номер месяца из переданной строки\n",
    "def mons_numb(datastr):\n",
    "    point = datastr.find('/')\n",
    "    return int(datastr[:point])\n",
    "\n",
    "# добавляем колонку с номером месяца\n",
    "data['mons'] = data['release_date'].apply(mons_numb)   \n",
    "# фильтруем фильмы по интервалу\n",
    "summer_film = data[(data['mons'] > 5) & (data['mons'] < 9)]\n",
    "# считаем их количество\n",
    "print(summer_film['imdb_id'].count())\n",
    "\n",
    "answer_ls.append(2)"
   ]
  },
  {
   "cell_type": "markdown",
   "metadata": {},
   "source": [
    "# 29. Какой режисер выпускает (суммарно по годам) больше всего фильмов зимой?\n",
    "Варианты ответов:\n",
    "1. Steven Soderbergh\n",
    "2. Christopher Nolan\n",
    "3. Clint Eastwood\n",
    "4. Ridley Scott\n",
    "5. Peter Jackson"
   ]
  },
  {
   "cell_type": "code",
   "execution_count": 76,
   "metadata": {},
   "outputs": [
    {
     "name": "stdout",
     "output_type": "stream",
     "text": [
      "Peter Jackson    7\n",
      "Name: a_director, dtype: int64\n"
     ]
    }
   ],
   "source": [
    "# процедура возвращает номер месяца из переданной строки\n",
    "def mons_numb(datastr):\n",
    "    point = datastr.find('/')\n",
    "    return int(datastr[:point])\n",
    "\n",
    "# добавляем колонку с номером месяца\n",
    "data['mons'] = data['release_date'].apply(mons_numb)   \n",
    "# найдем зимние фильмы\n",
    "winter_film = data[data['mons'].isin([1, 2, 12])]\n",
    "# объединим полученное с таблицей режиссеров\n",
    "joined_companies = winter_film.merge(data_director, on='imdb_id', how='left') \n",
    "# Выводим первый\n",
    "print(joined_companies['a_director'].value_counts().head(1))\n",
    "\n",
    "answer_ls.append(5)"
   ]
  },
  {
   "cell_type": "markdown",
   "metadata": {},
   "source": [
    "# 30. Какой месяц чаще всего по годам самый прибыльный?\n",
    "Варианты ответа:\n",
    "1. Январь\n",
    "2. Июнь\n",
    "3. Декабрь\n",
    "4. Сентябрь\n",
    "5. Май"
   ]
  },
  {
   "cell_type": "code",
   "execution_count": 77,
   "metadata": {},
   "outputs": [
    {
     "name": "stdout",
     "output_type": "stream",
     "text": [
      "('profit', 6)\n"
     ]
    }
   ],
   "source": [
    "# Создаем сводную таблицу с колонками по месяцам и годами в строках\n",
    "pivot = data.pivot_table(values=['profit'],\n",
    "index=['release_year'],\n",
    "columns=['mons'],\n",
    "aggfunc='sum',\n",
    "fill_value=0)\n",
    "\n",
    "# Находим максимумы по годам\n",
    "print(pivot.idxmax(axis=1).value_counts().idxmax())\n",
    "\n",
    "answer_ls.append(2)"
   ]
  },
  {
   "cell_type": "markdown",
   "metadata": {},
   "source": [
    "# 31. Названия фильмов какой студии в среднем самые длинные по количеству символов?\n",
    "Варианты ответа:\n",
    "1. Universal Pictures (Universal)\n",
    "2. Warner Bros\n",
    "3. Jim Henson Company, The\n",
    "4. Paramount Pictures\n",
    "5. Four By Two Productions"
   ]
  },
  {
   "cell_type": "code",
   "execution_count": 78,
   "metadata": {},
   "outputs": [
    {
     "name": "stdout",
     "output_type": "stream",
     "text": [
      "                         len_title\n",
      "a_companies                       \n",
      "Four By Two Productions       83.0\n"
     ]
    }
   ],
   "source": [
    "# Добавим колонку с длиной названия\n",
    "data['len_title'] = data['original_title'].str.len()\n",
    "# Объединяем с основной таблицей\n",
    "joined_companies = data_companies.merge(data, on='imdb_id', how='left') \n",
    "# группируем по компаниям с вычислением среденй длины названия по компании\n",
    "group_df = joined_companies.groupby(['a_companies'])[['len_title']].mean()\n",
    "# находим максимальное\n",
    "print(group_df[group_df['len_title'] == group_df['len_title'].max()])\n",
    "\n",
    "answer_ls.append(5)"
   ]
  },
  {
   "cell_type": "markdown",
   "metadata": {},
   "source": [
    "# 32. Названия фильмов какой студии в среднем самые длинные по количеству слов?\n",
    "Варианты ответа:\n",
    "1. Universal Pictures (Universal)\n",
    "2. Warner Bros\n",
    "3. Jim Henson Company, The\n",
    "4. Paramount Pictures\n",
    "5. Four By Two Productions"
   ]
  },
  {
   "cell_type": "code",
   "execution_count": 79,
   "metadata": {},
   "outputs": [
    {
     "name": "stdout",
     "output_type": "stream",
     "text": [
      "                         word_title\n",
      "a_companies                        \n",
      "Four By Two Productions        12.0\n"
     ]
    }
   ],
   "source": [
    "# Добавим колонку с со списком из слов и помещаем туда длину списка\n",
    "data['word_title'] = data['original_title'].str.split()\n",
    "data['word_title'] = data['word_title'].str.len()\n",
    "# Объединяем с основной таблицей\n",
    "joined_companies = data_companies.merge(data, on='imdb_id', how='inner') \n",
    "# группируем по компаниям с вычислением среденй длины названия по компании\n",
    "group_df = joined_companies.groupby(['a_companies'])[['word_title']].mean()\n",
    "# находим максимальное\n",
    "print(group_df[group_df['word_title'] == group_df['word_title'].max()])\n",
    "\n",
    "answer_ls.append(5)"
   ]
  },
  {
   "cell_type": "markdown",
   "metadata": {},
   "source": [
    "# 33. Сколько разных слов используется в названиях фильмов?(без учета регистра)\n",
    "Варианты ответа:\n",
    "1. 6540\n",
    "2. 1002\n",
    "3. 2461\n",
    "4. 28304\n",
    "5. 3432"
   ]
  },
  {
   "cell_type": "code",
   "execution_count": 80,
   "metadata": {},
   "outputs": [
    {
     "name": "stdout",
     "output_type": "stream",
     "text": [
      "2461\n"
     ]
    }
   ],
   "source": [
    "# Переведем названия фильмов в нижний регистр\n",
    "data['word_title'] = data['original_title'].str.lower()\n",
    "\n",
    "words_list = []\n",
    "for index, row in data.iterrows():\n",
    "    # формируем список слов по всему датафрейму\n",
    "    words_list.extend(str(row.word_title).split())\n",
    "\n",
    "# выводим длину списка который приведен к уникальным значениям    \n",
    "print(len(set(words_list)))\n",
    "\n",
    "answer_ls.append(3)"
   ]
  },
  {
   "cell_type": "markdown",
   "metadata": {},
   "source": [
    "# 34. Какие фильмы входят в 1 процент лучших по рейтингу?\n",
    "Варианты ответа:\n",
    "1. Inside Out, Gone Girl, 12 Years a Slave\n",
    "2. BloodRayne, The Adventures of Rocky & Bullwinkle\n",
    "3. The Lord of the Rings: The Return of the King\n",
    "4. 300, Lucky Number Slevin"
   ]
  },
  {
   "cell_type": "code",
   "execution_count": 81,
   "metadata": {},
   "outputs": [
    {
     "name": "stdout",
     "output_type": "stream",
     "text": [
      "['1']\n"
     ]
    }
   ],
   "source": [
    "# нам нужно найти первый процент фильмов, лучшуих по рейтингу\n",
    "# 1 процент фильмов это\n",
    "one_percent = round(len(data)/100*1)\n",
    "# сортироуем список по убыванию рейтинка\n",
    "top_rating = data.sort_values(by='vote_average', ascending=False)\n",
    "#Выводим первый процент отсортированного датафрйма\n",
    "one_percent_top = top_rating.iloc[:one_percent-1].original_title.tolist()\n",
    "# формируем списки ответов из данных платформы\n",
    "ans_one = ['Inside Out', 'Gone Girl', '12 Years a Slave']\n",
    "ans_two = ['BloodRayne', 'The Adventures of Rocky & Bullwinkle']\n",
    "ans_three = ['The Lord of the Rings: The Return of the King', 'Upside Down']\n",
    "ans_four = ['300', 'Lucky Number Slevin']\n",
    "ans_five = ['Upside Down', '300', 'Inside Out', 'The Lord of the Rings: The Return of the King']\n",
    "\n",
    "ans_list = []\n",
    "# Проверяем входят ли ответы в топ фильмов\n",
    "if set(ans_one).issubset(one_percent_top):\n",
    "    ans_list.append(\"1\")\n",
    "\n",
    "if set(ans_two).issubset(one_percent_top):\n",
    "    ans_list.append(\"2\")\n",
    "    \n",
    "if set(ans_three).issubset(one_percent_top):\n",
    "    ans_list.append(\"3\")\n",
    "    \n",
    "if set(ans_four).issubset(one_percent_top):\n",
    "    ans_list.append(\"4\")\n",
    "    \n",
    "if set(ans_five).issubset(one_percent_top):\n",
    "    ans_list.append(\"5\")\n",
    "\n",
    "# Выведем получившийся список (должен состоять из одного значения - номера ответа)\n",
    "print(ans_list)\n",
    "\n",
    "answer_ls.append(1)"
   ]
  },
  {
   "cell_type": "markdown",
   "metadata": {},
   "source": [
    "# 35. Какие актеры чаще всего снимаются в одном фильме вместе\n",
    "Варианты ответа:\n",
    "1. Johnny Depp & Helena Bonham Carter\n",
    "2. Hugh Jackman & Ian McKellen\n",
    "3. Vin Diesel & Paul Walker\n",
    "4. Adam Sandler & Kevin James\n",
    "5. Daniel Radcliffe & Rupert Grint"
   ]
  },
  {
   "cell_type": "code",
   "execution_count": 82,
   "metadata": {},
   "outputs": [
    {
     "name": "stdout",
     "output_type": "stream",
     "text": [
      "  ans  films\n",
      "4   5      8\n"
     ]
    }
   ],
   "source": [
    "# Находим фильмы в которых снимается первая пара и посбчитываем их количество\n",
    "jd_films = data_cast[data_cast['a_cast']=='Johnny Depp']\n",
    "hbc_films = data_cast[data_cast['a_cast']=='Helena Bonham Carter']\n",
    "jd_hbc_films = jd_films.merge(hbc_films, on='imdb_id', how='inner')\n",
    "\n",
    "# вторая пара\n",
    "hj_films = data_cast[data_cast['a_cast']=='Hugh Jackman']\n",
    "im_films = data_cast[data_cast['a_cast']=='Ian McKellen']\n",
    "hj_im_films = hj_films.merge(im_films, on='imdb_id', how='inner')\n",
    "\n",
    "# третья пара\n",
    "vd_films = data_cast[data_cast['a_cast']=='Vin Diesel']\n",
    "pv_films = data_cast[data_cast['a_cast']=='Paul Walker']\n",
    "vd_pv_films = vd_films.merge(pv_films, on='imdb_id', how='inner')\n",
    "\n",
    "# четвертая пара\n",
    "as_films = data_cast[data_cast['a_cast']=='Adam Sandler']\n",
    "kj_films = data_cast[data_cast['a_cast']=='Kevin James']\n",
    "as_kj_films = as_films.merge(kj_films, on='imdb_id', how='inner')\n",
    "\n",
    "# пятая пара\n",
    "dr_films = data_cast[data_cast['a_cast']=='Daniel Radcliffe']\n",
    "rg_films = data_cast[data_cast['a_cast']=='Rupert Grint']\n",
    "dr_rg_films = dr_films.merge(rg_films, on='imdb_id', how='inner')\n",
    "\n",
    "# создадим датафрейм и найдем максимум\n",
    "ans_df = pd.DataFrame([['1',len(jd_hbc_films)],['2',len(hj_im_films)],['3',len(vd_pv_films)],['4',len(as_kj_films)],['5',len(dr_rg_films)]], columns=['ans', 'films'])\n",
    "\n",
    "# Выведем максимальное значение с номером ответа\n",
    "print(ans_df[ans_df['films']==ans_df['films'].max()])\n",
    "\n",
    "answer_ls.append(5)"
   ]
  },
  {
   "cell_type": "markdown",
   "metadata": {},
   "source": [
    "# 36. У какого из режиссеров выше вероятность выпустить фильм в прибыли? (5 баллов)101\n",
    "Варианты ответа:\n",
    "1. Quentin Tarantino\n",
    "2. Steven Soderbergh\n",
    "3. Robert Rodriguez\n",
    "4. Christopher Nolan\n",
    "5. Clint Eastwood"
   ]
  },
  {
   "cell_type": "code",
   "execution_count": 83,
   "metadata": {},
   "outputs": [
    {
     "name": "stdout",
     "output_type": "stream",
     "text": [
      "  ans  var\n",
      "3   4  1.0\n"
     ]
    }
   ],
   "source": [
    "# Найдем все фильмы Тарантино\n",
    "tar_films = data_director[data_director['a_director']=='Quentin Tarantino']\n",
    "tar_joined = tar_films.merge(data, on='imdb_id', how='left')\n",
    "# Найдем прибыльные фильмы Тарантино\n",
    "profit_tar_films = tar_joined[tar_joined['profit'] > 0]\n",
    "\n",
    "\n",
    "# Найдем все фильмы Soderbergh\n",
    "sod_films = data_director[data_director['a_director']=='Steven Soderbergh']\n",
    "sod_joined = sod_films.merge(data, on='imdb_id', how='left')\n",
    "# Найдем прибыльные фильмы Soderbergh\n",
    "profit_sod_films = sod_joined[sod_joined['profit'] > 0]\n",
    "\n",
    "\n",
    "# Найдем все фильмы Rodriguez\n",
    "rod_films = data_director[data_director['a_director']=='Robert Rodriguez']\n",
    "rod_joined = rod_films.merge(data, on='imdb_id', how='left')\n",
    "# Найдем прибыльные фильмы Rodriguez\n",
    "profit_rod_films = rod_joined[rod_joined['profit'] > 0]\n",
    "\n",
    "# Найдем все фильмы Nolan\n",
    "nol_films = data_director[data_director['a_director']=='Christopher Nolan']\n",
    "nol_joined = nol_films.merge(data, on='imdb_id', how='left')\n",
    "# Найдем прибыльные фильмы Rodriguez\n",
    "profit_nol_films = nol_joined[nol_joined['profit'] > 0]\n",
    "\n",
    "# Найдем все фильмы Nolan\n",
    "eas_films = data_director[data_director['a_director']=='Clint Eastwood']\n",
    "eas_joined = eas_films.merge(data, on='imdb_id', how='left')\n",
    "# Найдем прибыльные фильмы Rodriguez\n",
    "profit_eas_films = eas_joined[eas_joined['profit'] > 0]\n",
    "\n",
    "\n",
    "\n",
    "# создадим датафрейм и найдем максимум\n",
    "ans_df = pd.DataFrame([['1',round(len(profit_tar_films)/len(tar_films),2)],\n",
    "                       ['2',round(len(profit_sod_films)/len(sod_films),2)],\n",
    "                       ['3',round(len(profit_rod_films)/len(rod_films),2)],\n",
    "                       ['4',round(len(profit_nol_films)/len(nol_films),2)],\n",
    "                       ['5',round(len(profit_eas_films)/len(eas_joined),2)]\n",
    "                      ], columns=['ans', 'var'])\n",
    "\n",
    "# Выведем максимальное значение с номером ответа\n",
    "print(ans_df[ans_df['var']==ans_df['var'].max()])\n",
    "\n",
    "answer_ls.append(4)"
   ]
  },
  {
   "cell_type": "markdown",
   "metadata": {},
   "source": [
    "# Submission"
   ]
  },
  {
   "cell_type": "code",
   "execution_count": 84,
   "metadata": {},
   "outputs": [
    {
     "data": {
      "text/plain": [
       "36"
      ]
     },
     "execution_count": 84,
     "metadata": {},
     "output_type": "execute_result"
    }
   ],
   "source": [
    "len(answer_ls)"
   ]
  },
  {
   "cell_type": "code",
   "execution_count": 85,
   "metadata": {},
   "outputs": [
    {
     "data": {
      "text/html": [
       "<div>\n",
       "<style scoped>\n",
       "    .dataframe tbody tr th:only-of-type {\n",
       "        vertical-align: middle;\n",
       "    }\n",
       "\n",
       "    .dataframe tbody tr th {\n",
       "        vertical-align: top;\n",
       "    }\n",
       "\n",
       "    .dataframe thead th {\n",
       "        text-align: right;\n",
       "    }\n",
       "</style>\n",
       "<table border=\"1\" class=\"dataframe\">\n",
       "  <thead>\n",
       "    <tr style=\"text-align: right;\">\n",
       "      <th></th>\n",
       "      <th>Id</th>\n",
       "      <th>Answer</th>\n",
       "    </tr>\n",
       "  </thead>\n",
       "  <tbody>\n",
       "    <tr>\n",
       "      <th>0</th>\n",
       "      <td>1</td>\n",
       "      <td>4</td>\n",
       "    </tr>\n",
       "    <tr>\n",
       "      <th>1</th>\n",
       "      <td>2</td>\n",
       "      <td>2</td>\n",
       "    </tr>\n",
       "    <tr>\n",
       "      <th>2</th>\n",
       "      <td>3</td>\n",
       "      <td>3</td>\n",
       "    </tr>\n",
       "    <tr>\n",
       "      <th>3</th>\n",
       "      <td>4</td>\n",
       "      <td>2</td>\n",
       "    </tr>\n",
       "    <tr>\n",
       "      <th>4</th>\n",
       "      <td>5</td>\n",
       "      <td>1</td>\n",
       "    </tr>\n",
       "    <tr>\n",
       "      <th>5</th>\n",
       "      <td>6</td>\n",
       "      <td>5</td>\n",
       "    </tr>\n",
       "    <tr>\n",
       "      <th>6</th>\n",
       "      <td>7</td>\n",
       "      <td>2</td>\n",
       "    </tr>\n",
       "    <tr>\n",
       "      <th>7</th>\n",
       "      <td>8</td>\n",
       "      <td>1</td>\n",
       "    </tr>\n",
       "    <tr>\n",
       "      <th>8</th>\n",
       "      <td>9</td>\n",
       "      <td>4</td>\n",
       "    </tr>\n",
       "    <tr>\n",
       "      <th>9</th>\n",
       "      <td>10</td>\n",
       "      <td>5</td>\n",
       "    </tr>\n",
       "    <tr>\n",
       "      <th>10</th>\n",
       "      <td>11</td>\n",
       "      <td>3</td>\n",
       "    </tr>\n",
       "    <tr>\n",
       "      <th>11</th>\n",
       "      <td>12</td>\n",
       "      <td>3</td>\n",
       "    </tr>\n",
       "    <tr>\n",
       "      <th>12</th>\n",
       "      <td>13</td>\n",
       "      <td>3</td>\n",
       "    </tr>\n",
       "    <tr>\n",
       "      <th>13</th>\n",
       "      <td>14</td>\n",
       "      <td>4</td>\n",
       "    </tr>\n",
       "    <tr>\n",
       "      <th>14</th>\n",
       "      <td>15</td>\n",
       "      <td>5</td>\n",
       "    </tr>\n",
       "    <tr>\n",
       "      <th>15</th>\n",
       "      <td>16</td>\n",
       "      <td>1</td>\n",
       "    </tr>\n",
       "    <tr>\n",
       "      <th>16</th>\n",
       "      <td>17</td>\n",
       "      <td>3</td>\n",
       "    </tr>\n",
       "    <tr>\n",
       "      <th>17</th>\n",
       "      <td>18</td>\n",
       "      <td>3</td>\n",
       "    </tr>\n",
       "    <tr>\n",
       "      <th>18</th>\n",
       "      <td>19</td>\n",
       "      <td>2</td>\n",
       "    </tr>\n",
       "    <tr>\n",
       "      <th>19</th>\n",
       "      <td>20</td>\n",
       "      <td>1</td>\n",
       "    </tr>\n",
       "    <tr>\n",
       "      <th>20</th>\n",
       "      <td>21</td>\n",
       "      <td>4</td>\n",
       "    </tr>\n",
       "    <tr>\n",
       "      <th>21</th>\n",
       "      <td>22</td>\n",
       "      <td>2</td>\n",
       "    </tr>\n",
       "    <tr>\n",
       "      <th>22</th>\n",
       "      <td>23</td>\n",
       "      <td>3</td>\n",
       "    </tr>\n",
       "    <tr>\n",
       "      <th>23</th>\n",
       "      <td>24</td>\n",
       "      <td>1</td>\n",
       "    </tr>\n",
       "    <tr>\n",
       "      <th>24</th>\n",
       "      <td>25</td>\n",
       "      <td>5</td>\n",
       "    </tr>\n",
       "    <tr>\n",
       "      <th>25</th>\n",
       "      <td>26</td>\n",
       "      <td>1</td>\n",
       "    </tr>\n",
       "    <tr>\n",
       "      <th>26</th>\n",
       "      <td>27</td>\n",
       "      <td>4</td>\n",
       "    </tr>\n",
       "    <tr>\n",
       "      <th>27</th>\n",
       "      <td>28</td>\n",
       "      <td>2</td>\n",
       "    </tr>\n",
       "    <tr>\n",
       "      <th>28</th>\n",
       "      <td>29</td>\n",
       "      <td>5</td>\n",
       "    </tr>\n",
       "    <tr>\n",
       "      <th>29</th>\n",
       "      <td>30</td>\n",
       "      <td>2</td>\n",
       "    </tr>\n",
       "    <tr>\n",
       "      <th>30</th>\n",
       "      <td>31</td>\n",
       "      <td>5</td>\n",
       "    </tr>\n",
       "    <tr>\n",
       "      <th>31</th>\n",
       "      <td>32</td>\n",
       "      <td>5</td>\n",
       "    </tr>\n",
       "    <tr>\n",
       "      <th>32</th>\n",
       "      <td>33</td>\n",
       "      <td>3</td>\n",
       "    </tr>\n",
       "    <tr>\n",
       "      <th>33</th>\n",
       "      <td>34</td>\n",
       "      <td>1</td>\n",
       "    </tr>\n",
       "    <tr>\n",
       "      <th>34</th>\n",
       "      <td>35</td>\n",
       "      <td>5</td>\n",
       "    </tr>\n",
       "    <tr>\n",
       "      <th>35</th>\n",
       "      <td>36</td>\n",
       "      <td>4</td>\n",
       "    </tr>\n",
       "  </tbody>\n",
       "</table>\n",
       "</div>"
      ],
      "text/plain": [
       "    Id  Answer\n",
       "0    1       4\n",
       "1    2       2\n",
       "2    3       3\n",
       "3    4       2\n",
       "4    5       1\n",
       "5    6       5\n",
       "6    7       2\n",
       "7    8       1\n",
       "8    9       4\n",
       "9   10       5\n",
       "10  11       3\n",
       "11  12       3\n",
       "12  13       3\n",
       "13  14       4\n",
       "14  15       5\n",
       "15  16       1\n",
       "16  17       3\n",
       "17  18       3\n",
       "18  19       2\n",
       "19  20       1\n",
       "20  21       4\n",
       "21  22       2\n",
       "22  23       3\n",
       "23  24       1\n",
       "24  25       5\n",
       "25  26       1\n",
       "26  27       4\n",
       "27  28       2\n",
       "28  29       5\n",
       "29  30       2\n",
       "30  31       5\n",
       "31  32       5\n",
       "32  33       3\n",
       "33  34       1\n",
       "34  35       5\n",
       "35  36       4"
      ]
     },
     "execution_count": 85,
     "metadata": {},
     "output_type": "execute_result"
    }
   ],
   "source": [
    "pd.DataFrame({'Id':range(1,len(answer_ls)+1), 'Answer':answer_ls}, columns=['Id', 'Answer'])"
   ]
  },
  {
   "cell_type": "code",
   "execution_count": null,
   "metadata": {},
   "outputs": [],
   "source": []
  }
 ],
 "metadata": {
  "kernelspec": {
   "display_name": "Python 3",
   "language": "python",
   "name": "python3"
  },
  "language_info": {
   "codemirror_mode": {
    "name": "ipython",
    "version": 3
   },
   "file_extension": ".py",
   "mimetype": "text/x-python",
   "name": "python",
   "nbconvert_exporter": "python",
   "pygments_lexer": "ipython3",
   "version": "3.7.6"
  }
 },
 "nbformat": 4,
 "nbformat_minor": 4
}
